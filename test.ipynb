{
 "cells": [
  {
   "cell_type": "code",
   "execution_count": 13,
   "id": "5ae132f9",
   "metadata": {},
   "outputs": [],
   "source": [
    "from BPE import BPE\n",
    "from Embeddings import TokenEmbeddings, PositionalEmbeddings\n",
    "\n",
    "import torch\n",
    "import torch.nn as nn"
   ]
  },
  {
   "cell_type": "code",
   "execution_count": null,
   "id": "bd540291",
   "metadata": {},
   "outputs": [],
   "source": [
    "vocab_size = 31\n",
    "emb_size = 64\n",
    "max_seq_len = 6\n",
    "head_size = 4\n",
    "num_heads = 8\n",
    "dropout = 0.1"
   ]
  },
  {
   "cell_type": "code",
   "execution_count": 15,
   "id": "a81b0105",
   "metadata": {},
   "outputs": [],
   "source": [
    "text = \"Однажды был случай в далёком Макао: макака коалу в какао макала, коала лениво какао лакала, макака макала, коала икала.\""
   ]
  },
  {
   "cell_type": "code",
   "execution_count": 16,
   "id": "626e8fc3",
   "metadata": {},
   "outputs": [],
   "source": [
    "bpe = BPE(vocab_size=vocab_size)"
   ]
  },
  {
   "cell_type": "code",
   "execution_count": 17,
   "id": "d29d5882",
   "metadata": {},
   "outputs": [],
   "source": [
    "bpe.fit(text)"
   ]
  },
  {
   "cell_type": "code",
   "execution_count": 18,
   "id": "d8fc1527",
   "metadata": {},
   "outputs": [
    {
     "data": {
      "text/plain": [
       "[5, 9, 17, 6, 11, 9, 22, 0, 7, 22, 15, 0, 19, 15, 20, 21, 6, 13]"
      ]
     },
     "execution_count": 18,
     "metadata": {},
     "output_type": "execute_result"
    }
   ],
   "source": [
    "bpe.encode(\"Однажды был случай\")"
   ]
  },
  {
   "cell_type": "code",
   "execution_count": 19,
   "id": "3eb99337",
   "metadata": {},
   "outputs": [
    {
     "data": {
      "text/plain": [
       "'Однажды был случай'"
      ]
     },
     "execution_count": 19,
     "metadata": {},
     "output_type": "execute_result"
    }
   ],
   "source": [
    "bpe.decode([5, 9, 17, 6, 11, 9, 22, 0, 7, 22, 15, 0, 19, 15, 20, 21, 6, 13])"
   ]
  }
 ],
 "metadata": {
  "kernelspec": {
   "display_name": "Python 3",
   "language": "python",
   "name": "python3"
  },
  "language_info": {
   "codemirror_mode": {
    "name": "ipython",
    "version": 3
   },
   "file_extension": ".py",
   "mimetype": "text/x-python",
   "name": "python",
   "nbconvert_exporter": "python",
   "pygments_lexer": "ipython3",
   "version": "3.11.7"
  }
 },
 "nbformat": 4,
 "nbformat_minor": 5
}
