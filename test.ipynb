{
 "cells": [
  {
   "cell_type": "code",
   "execution_count": 74,
   "id": "5ae132f9",
   "metadata": {},
   "outputs": [],
   "source": [
    "from BPE import BPE"
   ]
  },
  {
   "cell_type": "code",
   "execution_count": 75,
   "id": "a81b0105",
   "metadata": {},
   "outputs": [],
   "source": [
    "text = \"Однажды был случай в далёком Макао: макака коалу в какао макала, коала лениво какао лакала, макака макала, коала икала.\""
   ]
  },
  {
   "cell_type": "code",
   "execution_count": 76,
   "id": "626e8fc3",
   "metadata": {},
   "outputs": [],
   "source": [
    "bpe = BPE(31)"
   ]
  },
  {
   "cell_type": "code",
   "execution_count": null,
   "id": "d29d5882",
   "metadata": {},
   "outputs": [],
   "source": [
    "bpe.fit(text)"
   ]
  }
 ],
 "metadata": {
  "kernelspec": {
   "display_name": "Python 3",
   "language": "python",
   "name": "python3"
  },
  "language_info": {
   "codemirror_mode": {
    "name": "ipython",
    "version": 3
   },
   "file_extension": ".py",
   "mimetype": "text/x-python",
   "name": "python",
   "nbconvert_exporter": "python",
   "pygments_lexer": "ipython3",
   "version": "3.11.7"
  }
 },
 "nbformat": 4,
 "nbformat_minor": 5
}
