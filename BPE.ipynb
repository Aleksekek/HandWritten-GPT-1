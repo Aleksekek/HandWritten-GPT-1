{
 "cells": [
  {
   "cell_type": "code",
   "execution_count": 23,
   "id": "b661cf75",
   "metadata": {},
   "outputs": [],
   "source": [
    "class BPE:\n",
    "\n",
    "    def __init__(self, vocab_size: int) -> None:\n",
    "        self.vocab_size = vocab_size\n",
    "\n",
    "\n",
    "    def fit(self, text: str):\n",
    "        unique_tokens = sorted(list(set(list(text))))\n",
    "        \n",
    "        text = list(text) # type: ignore\n",
    "\n",
    "        while len(unique_tokens) < self.vocab_size:\n",
    "            max_freq_pair = 0\n",
    "            freq_pair = ''\n",
    "            poses = []\n",
    "            for i in range(1, len(text)):\n",
    "                c = ''.join(text).count(text[i-1] + text[i])\n",
    "                if c > max_freq_pair:\n",
    "                    max_freq_pair = c\n",
    "                    freq_pair = text[i-1] + text[i]\n",
    "            unique_tokens.append(freq_pair)\n",
    "            for i in range(1, len(text)):\n",
    "                if text[i-1] + text[i] == freq_pair:\n",
    "                    text[i] = freq_pair\n",
    "                    poses.append(i-1)\n",
    "            for p in poses[::-1]:\n",
    "                text.pop(p)\n",
    "\n",
    "        return unique_tokens"
   ]
  },
  {
   "cell_type": "code",
   "execution_count": 28,
   "id": "a81b0105",
   "metadata": {},
   "outputs": [],
   "source": [
    "text = 'Из кузова в кузов шла перегрузка арбузов. В грозу в грязи от груза арбузов развалился кузов.'"
   ]
  },
  {
   "cell_type": "code",
   "execution_count": 29,
   "id": "626e8fc3",
   "metadata": {},
   "outputs": [],
   "source": [
    "bpe = BPE(30)"
   ]
  },
  {
   "cell_type": "code",
   "execution_count": 30,
   "id": "d29d5882",
   "metadata": {},
   "outputs": [
    {
     "data": {
      "text/plain": [
       "[' ',\n",
       " '.',\n",
       " 'В',\n",
       " 'И',\n",
       " 'а',\n",
       " 'б',\n",
       " 'в',\n",
       " 'г',\n",
       " 'е',\n",
       " 'з',\n",
       " 'и',\n",
       " 'к',\n",
       " 'л',\n",
       " 'о',\n",
       " 'п',\n",
       " 'р',\n",
       " 'с',\n",
       " 'т',\n",
       " 'у',\n",
       " 'ш',\n",
       " 'я',\n",
       " 'уз',\n",
       " 'узо',\n",
       " 'узов',\n",
       " 'а ',\n",
       " 'в ',\n",
       " 'гр',\n",
       " ' к',\n",
       " ' кузов',\n",
       " 'кузов']"
      ]
     },
     "execution_count": 30,
     "metadata": {},
     "output_type": "execute_result"
    }
   ],
   "source": [
    "bpe.fit(text)"
   ]
  }
 ],
 "metadata": {
  "kernelspec": {
   "display_name": "Python 3",
   "language": "python",
   "name": "python3"
  },
  "language_info": {
   "codemirror_mode": {
    "name": "ipython",
    "version": 3
   },
   "file_extension": ".py",
   "mimetype": "text/x-python",
   "name": "python",
   "nbconvert_exporter": "python",
   "pygments_lexer": "ipython3",
   "version": "3.11.7"
  }
 },
 "nbformat": 4,
 "nbformat_minor": 5
}
