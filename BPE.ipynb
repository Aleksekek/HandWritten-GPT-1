{
 "cells": [
  {
   "cell_type": "code",
   "execution_count": 23,
   "id": "b661cf75",
   "metadata": {},
   "outputs": [],
   "source": [
    "class BPE:\n",
    "\n",
    "    def __init__(self, vocab_size: int) -> None:\n",
    "        self.vocab_size = vocab_size\n",
    "\n",
    "\n",
    "    def fit(self, text: str):\n",
    "        unique_tokens = sorted(list(set(list(text))))\n",
    "        \n",
    "        text = list(text) # type: ignore\n",
    "\n",
    "        while len(unique_tokens) < self.vocab_size:\n",
    "            max_freq_pair = 0\n",
    "            freq_pair = ''\n",
    "            poses = []\n",
    "            for i in range(1, len(text)):\n",
    "                c = ''.join(text).count(text[i-1] + text[i])\n",
    "                if c > max_freq_pair:\n",
    "                    max_freq_pair = c\n",
    "                    freq_pair = text[i-1] + text[i]\n",
    "            unique_tokens.append(freq_pair)\n",
    "            for i in range(1, len(text)):\n",
    "                if text[i-1] + text[i] == freq_pair:\n",
    "                    text[i] = freq_pair\n",
    "                    poses.append(i-1)\n",
    "            for p in poses[::-1]:\n",
    "                text.pop(p)\n",
    "\n",
    "        return unique_tokens"
   ]
  },
  {
   "cell_type": "code",
   "execution_count": 28,
   "id": "a81b0105",
   "metadata": {},
   "outputs": [],
   "source": [
    "text = 'Из кузова в кузов шла перегрузка арбузов. В грозу в грязи от груза арбузов развалился кузов.'"
   ]
  },
  {
   "cell_type": "code",
   "execution_count": 29,
   "id": "626e8fc3",
   "metadata": {},
   "outputs": [],
   "source": [
    "bpe = BPE(30)"
   ]
  },
  {
   "cell_type": "code",
   "execution_count": 30,
   "id": "d29d5882",
   "metadata": {},
   "outputs": [
    {
     "data": {
      "text/plain": [
       "[' ',\n",
       " '.',\n",
       " 'В',\n",
       " 'И',\n",
       " 'а',\n",
       " 'б',\n",
       " 'в',\n",
       " 'г',\n",
       " 'е',\n",
       " 'з',\n",
       " 'и',\n",
       " 'к',\n",
       " 'л',\n",
       " 'о',\n",
       " 'п',\n",
       " 'р',\n",
       " 'с',\n",
       " 'т',\n",
       " 'у',\n",
       " 'ш',\n",
       " 'я',\n",
       " 'уз',\n",
       " 'узо',\n",
       " 'узов',\n",
       " 'а ',\n",
       " 'в ',\n",
       " 'гр',\n",
       " ' к',\n",
       " ' кузов',\n",
       " 'кузов']"
      ]
     },
     "execution_count": 30,
     "metadata": {},
     "output_type": "execute_result"
    }
   ],
   "source": [
    "bpe.fit(text)"
   ]
  },
  {
   "cell_type": "code",
   "execution_count": 11,
   "id": "f854204b",
   "metadata": {},
   "outputs": [
    {
     "data": {
      "text/plain": [
       "'pidorasi v otdele data science ne znaut pi value'"
      ]
     },
     "execution_count": 11,
     "metadata": {},
     "output_type": "execute_result"
    }
   ],
   "source": [
    "''.join(list(text))"
   ]
  },
  {
   "cell_type": "code",
   "execution_count": 12,
   "id": "8c1a9573",
   "metadata": {},
   "outputs": [
    {
     "data": {
      "text/plain": [
       "2"
      ]
     },
     "execution_count": 12,
     "metadata": {},
     "output_type": "execute_result"
    }
   ],
   "source": [
    "''.join(list(text)).count('pi')"
   ]
  },
  {
   "cell_type": "code",
   "execution_count": null,
   "id": "338a826d",
   "metadata": {},
   "outputs": [
    {
     "name": "stdout",
     "output_type": "stream",
     "text": [
      "5\n",
      "20\n",
      "10\n",
      "15\n"
     ]
    }
   ],
   "source": [
    "a = int(input())\n",
    "b = int(input())\n",
    "c = int(input())\n",
    "\n",
    "numbers = list(map(int, input().split(', ')))\n",
    "\n",
    "for num in numbers:\n",
    "    if a<=num<=b and num%c==0:\n",
    "        print(num)"
   ]
  },
  {
   "cell_type": "code",
   "execution_count": 8,
   "id": "bbf261c0",
   "metadata": {},
   "outputs": [],
   "source": [
    "input_list = [\n",
    "'Ержан Матан 5',\n",
    "'Батон Химия 3',\n",
    "'Пупа Англ 2',\n",
    "'Лупа Инфа 7',\n",
    "'Ержан Химия 5',\n",
    "'Батон Инфа 3',\n",
    "'Пупа Химия 2',\n",
    "'Лупа Матан 7',\n",
    "'Вов Матан 5',\n",
    "'Ибы Химия 3',\n",
    "'Гога Англ 2',\n",
    "'Гога Инфа 7',\n",
    "'Гога Химия 5',\n",
    "'Гога А 3',\n",
    "'Гога Бэ 2',\n",
    "'Лупа Матан 7',\n",
    "'END']"
   ]
  },
  {
   "cell_type": "code",
   "execution_count": null,
   "id": "0bd99b58",
   "metadata": {},
   "outputs": [
    {
     "name": "stdout",
     "output_type": "stream",
     "text": [
      "Инфа 7\n",
      "Матан 7\n"
     ]
    }
   ],
   "source": [
    "students_dict = dict()\n",
    "\n",
    "while True:\n",
    "    inp = input().strip()\n",
    "    if inp == 'END':\n",
    "        break\n",
    "    student = inp.split()\n",
    "    if student[0] not in students_dict:\n",
    "        students_dict[student[0]] = {student[1]: student[2]}\n",
    "    else:\n",
    "        students_dict[student[0]][student[1]] = student[2]\n",
    "    \n",
    "student = input().strip()\n",
    "for key in sorted(students_dict[student].keys()):\n",
    "    print(f'{key} {students_dict[student][key]}')"
   ]
  },
  {
   "cell_type": "code",
   "execution_count": 13,
   "id": "8a4e766c",
   "metadata": {},
   "outputs": [
    {
     "name": "stdout",
     "output_type": "stream",
     "text": [
      "А 3\n",
      "Англ 2\n",
      "Бэ 2\n",
      "Инфа 7\n",
      "Химия 5\n"
     ]
    }
   ],
   "source": [
    "students_dict = dict()\n",
    "i=0\n",
    "\n",
    "while True:\n",
    "    inp = input_list[i].strip()\n",
    "    if inp == 'END':\n",
    "        break\n",
    "    student = inp.split()\n",
    "    if student[0] not in students_dict:\n",
    "        students_dict[student[0]] = {student[1]: student[2]}\n",
    "    else:\n",
    "        students_dict[student[0]][student[1]] = student[2]\n",
    "    i+=1\n",
    "    \n",
    "student = ' Гога '.strip()\n",
    "for key in sorted(students_dict[student].keys()):\n",
    "    print(f'{key} {students_dict[student][key]}')"
   ]
  },
  {
   "cell_type": "code",
   "execution_count": 2,
   "id": "23085fdc",
   "metadata": {},
   "outputs": [
    {
     "data": {
      "text/plain": [
       "['ADADWFAGAG', 'awd', 'AbObAbObUs', '1223', '123124214', 'bob i bab']"
      ]
     },
     "execution_count": 2,
     "metadata": {},
     "output_type": "execute_result"
    }
   ],
   "source": [
    "['ADADWFAGAG', 'awd', 'AbObAbObUs', '1223', '123124214', 'bob i bab']"
   ]
  },
  {
   "cell_type": "code",
   "execution_count": 4,
   "id": "4d6fa552",
   "metadata": {},
   "outputs": [],
   "source": [
    "def interesting_trunc(list_of_strings: list[str]):\n",
    "    return [s.lower()[:5] for s in list_of_strings]"
   ]
  },
  {
   "cell_type": "code",
   "execution_count": 6,
   "id": "9cd00d05",
   "metadata": {},
   "outputs": [
    {
     "data": {
      "text/plain": [
       "['adadw', 'awd', 'aboba', '1223', '12312', 'bob i', '']"
      ]
     },
     "execution_count": 6,
     "metadata": {},
     "output_type": "execute_result"
    }
   ],
   "source": [
    "interesting_trunc(['ADADWFAGAG', 'awd', 'AbObAbObUs', '1223', '123124214', 'bob i bab', ''])"
   ]
  },
  {
   "cell_type": "code",
   "execution_count": null,
   "id": "9ec43e89",
   "metadata": {},
   "outputs": [],
   "source": [
    "def interesting_trunc(list_of_strings: list[str]):\n",
    "    return [s.lower()[:5] for s in list_of_strings]\n",
    "\n",
    "from sys import stdin\n",
    "exec('\\n'.join(stdin))"
   ]
  },
  {
   "cell_type": "code",
   "execution_count": 15,
   "id": "e3bdc25f",
   "metadata": {},
   "outputs": [
    {
     "name": "stdout",
     "output_type": "stream",
     "text": [
      "['Когда кр?', 'Продлите дедлайн дз, мы не успеваем', 'дз, мы в биде']\n",
      "['Когда КР?', 'Когда кр?']\n"
     ]
    }
   ],
   "source": [
    "def get_important_messages(list_messages: list):\n",
    "    check_list = [\"кр\", \"дедлайн\", \"дз\", \"домашнее задание\", \"контрольная работа\"]\n",
    "    result = []\n",
    "    for m in list_messages:\n",
    "        for c in check_list:\n",
    "            if c in m.lower():\n",
    "                result.append(m)\n",
    "                break\n",
    "    return sorted(list(set(result)))\n",
    "\n",
    "print(get_important_messages(['Продлите дедлайн дз, мы не успеваем', 'Мы любим питон!', 'Когда кр?', 'C++ лучше', 'Когда кр?', 'дз, мы в биде']))\n",
    "print(get_important_messages(['Ура!', 'Когда КР?', 'Когда кр?']))"
   ]
  },
  {
   "cell_type": "code",
   "execution_count": null,
   "id": "8b364ec6",
   "metadata": {},
   "outputs": [],
   "source": [
    "def get_important_messages(list_messages: list):\n",
    "    check_list = [\"кр\", \"дедлайн\", \"дз\", \"домашнее задание\", \"контрольная работа\"]\n",
    "    result = []\n",
    "    for m in list_messages:\n",
    "        for c in check_list:\n",
    "            if c in m.lower():\n",
    "                result.append(m)\n",
    "                break\n",
    "    return sorted(list(set(result)))\n",
    "\n",
    "exec(input())"
   ]
  },
  {
   "cell_type": "code",
   "execution_count": 16,
   "id": "36238b50",
   "metadata": {},
   "outputs": [
    {
     "data": {
      "text/plain": [
       "4.631578947368421"
      ]
     },
     "execution_count": 16,
     "metadata": {},
     "output_type": "execute_result"
    }
   ],
   "source": [
    "8 * ((1+5+3+3+5+5) / 38)"
   ]
  }
 ],
 "metadata": {
  "kernelspec": {
   "display_name": "Python 3",
   "language": "python",
   "name": "python3"
  },
  "language_info": {
   "codemirror_mode": {
    "name": "ipython",
    "version": 3
   },
   "file_extension": ".py",
   "mimetype": "text/x-python",
   "name": "python",
   "nbconvert_exporter": "python",
   "pygments_lexer": "ipython3",
   "version": "3.11.7"
  }
 },
 "nbformat": 4,
 "nbformat_minor": 5
}
